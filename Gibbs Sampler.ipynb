{
 "cells": [
  {
   "cell_type": "code",
   "execution_count": 71,
   "metadata": {},
   "outputs": [
    {
     "data": {
      "text/html": [
       "<style>\n",
       "    div.prompt {display:none}\n",
       "       .container {width:90%}\n",
       "</style>\n"
      ],
      "text/plain": [
       "<IPython.core.display.HTML object>"
      ]
     },
     "metadata": {},
     "output_type": "display_data"
    }
   ],
   "source": [
    "%%HTML\n",
    "<style>\n",
    "    div.prompt {display:none}\n",
    "       .container {width:90%}\n",
    "</style>"
   ]
  },
  {
   "cell_type": "code",
   "execution_count": 7,
   "metadata": {},
   "outputs": [],
   "source": [
    "import numpy as np\n",
    "import pandas as pd\n",
    "import numpy as np\n",
    "import matplotlib.pyplot as plt\n",
    "from sklearn.model_selection import KFold\n",
    "from sklearn.neighbors import NearestNeighbors\n",
    "from scipy.stats import dirichlet, norm\n",
    "import numpy_indexed as npi"
   ]
  },
  {
   "cell_type": "code",
   "execution_count": 333,
   "metadata": {},
   "outputs": [],
   "source": [
    "class DataGenerator:\n",
    "    def __init__(self, n_cells, n_cell_types, n_genes, K, epsilon=0.25):\n",
    "        self.n_cells = n_cells\n",
    "        self.n_cell_types = n_cell_types\n",
    "        self.n_genes = n_genes\n",
    "        self.K = K\n",
    "        self.epsilon = epsilon\n",
    "\n",
    "        self.graph = None\n",
    "        self.coordinates = None\n",
    "        self.neighbors_cell_types = None\n",
    "        self.perturbation = None\n",
    "        self.expression = None\n",
    "        self.cell_types = None\n",
    "        \n",
    "        self.reset()\n",
    "\n",
    "    def reset(self):\n",
    "        self.generate_cell_caracteristics()\n",
    "        self.generate_perturbation()\n",
    "        self.generate_knn_graph()\n",
    "        self.generate_cell_types()\n",
    "        self.generate_perturbed_caracteristics()\n",
    "\n",
    "    def generate_knn_graph(self):\n",
    "        self.coordinates = np.random.uniform(size=(self.n_cells, 2))\n",
    "        nn = NearestNeighbors(self.K + 1)\n",
    "        nn.fit(self.coordinates)\n",
    "        self.graph = nn.kneighbors(self.coordinates, self.K + 1)[1][:, 1:]\n",
    "        \n",
    "        self.graph_reversed = [[] for _ in range(self.n_cells)]\n",
    "        for v, nbs in enumerate(self.graph):\n",
    "            for u in nbs:\n",
    "                self.graph_reversed[u].append(v)\n",
    "        self.graph_reversed = [np.array(nbs) for nbs in self.graph_reversed]\n",
    "\n",
    "    def generate_cell_types(self):\n",
    "        self.cell_types = np.random.choice(self.n_cell_types, size=self.n_cells)\n",
    "        self.neighbors_cell_types = np.zeros((self.n_cells, self.n_cell_types))\n",
    "        for i in range(self.n_cells):\n",
    "            cell_types, counts = np.unique(\n",
    "                self.cell_types[self.graph[i]], return_counts=True\n",
    "            )\n",
    "            self.neighbors_cell_types[i][cell_types] = counts / self.K\n",
    "\n",
    "    def generate_perturbation(self):\n",
    "        shape = (self.n_cell_types, self.n_cell_types, self.n_genes)\n",
    "        self.perturbation = np.random.normal(0, 10, size=shape)\n",
    "\n",
    "    def generate_cell_caracteristics(self):\n",
    "        shape = self.n_cell_types, self.n_genes\n",
    "        self.initial_cell_carac = np.random.normal(0, 10, size=shape)\n",
    "\n",
    "    def generate_perturbed_caracteristics(self):\n",
    "        effective_perturbation = (\n",
    "            self.perturbation[self.cell_types]\n",
    "            * self.neighbors_cell_types[:, :, np.newaxis]\n",
    "        ).sum(axis=1)\n",
    "\n",
    "        self.effective_gene_expression = (\n",
    "            self.initial_cell_carac[self.cell_types]\n",
    "            + self.epsilon * effective_perturbation\n",
    "        )\n",
    "\n",
    "    def generate_gene_expression(self, epsilon=None, n_cells=None):\n",
    "        # If epsilon or n_cells is given, resample accordingly without changing the\n",
    "        # global latent variable about cluster mean, cluster interactions\n",
    "        if n_cells is not None:\n",
    "            self.n_cells = n_cells\n",
    "            self.generate_knn_graph()\n",
    "            self.generate_cell_types()\n",
    "\n",
    "        if epsilon is not None:\n",
    "            self.epsilon = epsilon\n",
    "            self.generate_perturbed_caracteristics()\n",
    "\n",
    "        self.observations = np.random.normal(self.effective_gene_expression, 1)\n",
    "        return self.observations\n",
    "    "
   ]
  },
  {
   "cell_type": "code",
   "execution_count": null,
   "metadata": {},
   "outputs": [],
   "source": []
  },
  {
   "cell_type": "code",
   "execution_count": 449,
   "metadata": {},
   "outputs": [],
   "source": [
    "\"\"\"\n",
    "Potentiels bugs:\n",
    "    - Variance vs std\n",
    "    - rho: echange des deux premieres dimensions (i et k)\n",
    "    - code immonde\n",
    "\"\"\"\n",
    "\n",
    "\n",
    "class GibbsSampler:\n",
    "    def __init__(\n",
    "        self,\n",
    "        num_cells,\n",
    "        num_cell_types,\n",
    "        num_genes,\n",
    "        sigma,\n",
    "        S,\n",
    "        epsilon,\n",
    "        graph,\n",
    "        graph_reverse,\n",
    "        alpha=None,\n",
    "    ):\n",
    "        self.num_cells = num_cells\n",
    "        self.num_cell_types = num_cell_types\n",
    "        self.num_genes = num_genes\n",
    "        self.epsilon = epsilon\n",
    "        self.graph = graph\n",
    "        self.graph_reverse = graph_reverse\n",
    "        self.epsilon_up = self.epsilon / self.graph.shape[1]\n",
    "        self.sigma = sigma\n",
    "        self.S = S\n",
    "        self.Vi = None\n",
    "        self.neighbors_cell_types = None\n",
    "        if alpha is None:\n",
    "            alpha = np.ones(num_cell_types)\n",
    "        self.alpha = alpha\n",
    "        self.reset()\n",
    "\n",
    "    def reset(self):\n",
    "        self.pi = np.random.dirichlet(self.alpha)\n",
    "        self.update_Z(\n",
    "            np.random.choice(self.num_cell_types, p=self.pi, size=self.num_cells)\n",
    "        )\n",
    "        self.beta = np.random.normal(\n",
    "            0, self.sigma, size=(self.num_cell_types, self.num_genes)\n",
    "        )\n",
    "        self.rho = np.random.normal(\n",
    "            0,\n",
    "            self.sigma,\n",
    "            size=(self.num_cell_types, self.num_cell_types, self.num_genes),\n",
    "        )\n",
    "        self.log_joints = []\n",
    "\n",
    "    def update_Z(self, Z):\n",
    "        self.Z = Z.astype(int)\n",
    "\n",
    "        # Count types\n",
    "        self.n_i = np.zeros(self.num_cell_types)\n",
    "        cell_types, counts = np.unique(self.Z, return_counts=True)\n",
    "        self.n_i[cell_types] = counts\n",
    "\n",
    "        # Reverse map each type l: list of cells having type l\n",
    "        values, indices = npi.group_by(self.Z, np.arange(self.num_cells))\n",
    "        self.Vi = [np.array([]) for _ in range(self.num_cell_types)]\n",
    "        for i, v in enumerate(values):\n",
    "            self.Vi[v] = indices[i]\n",
    "\n",
    "        # For each cell v, number of neighbors of type k\n",
    "        self.mvk = np.zeros((self.num_cells, self.num_cell_types))\n",
    "        for i in range(self.num_cells):\n",
    "            cell_types, counts = np.unique(self.Z[self.graph[i]], return_counts=True)\n",
    "            self.mvk[i][cell_types] = counts\n",
    "\n",
    "        # Count number of edge k->l (in l,k)\n",
    "        self.ctype_ctype_counts = np.zeros((self.num_cell_types, self.num_cell_types))\n",
    "        for l in range(self.num_cell_types):\n",
    "            if len(self.Vi[l]):\n",
    "                self.ctype_ctype_counts[l] = self.mvk[self.Vi[l]].sum(axis=0)\n",
    "\n",
    "    def sample_pi(self):\n",
    "        return np.random.dirichlet(self.alpha + self.n_i)\n",
    "\n",
    "    def sample_beta(self, x):\n",
    "        multipliers = self.sigma ** 2 / (self.S ** 2 + self.n_i * self.sigma ** 2)\n",
    "\n",
    "        variances = (self.S ** 2) * multipliers\n",
    "        alphas = np.array(\n",
    "            [\n",
    "                (x[self.Vi[i]].sum(axis=0) if len(self.Vi[i]) else 0)\n",
    "                - self.epsilon_up\n",
    "                * (self.rho[i, :, :] * self.ctype_ctype_counts[i, :, None]).sum(axis=0)\n",
    "                for i in range(self.num_cell_types)\n",
    "            ]\n",
    "        )\n",
    "\n",
    "        return np.random.normal(\n",
    "            multipliers[:, None] * alphas, np.sqrt(variances)[:, None]\n",
    "        )\n",
    "\n",
    "    def sample_rho(self, x):\n",
    "        self.mvk\n",
    "\n",
    "        eta = 1.0 / (\n",
    "            self.S ** 2 / self.sigma ** 2\n",
    "            + self.epsilon_up ** 2\n",
    "            * np.array(\n",
    "                [\n",
    "                    (self.mvk[self.Vi[i]] ** 2).sum(axis=0)\n",
    "                    if len(self.Vi[i])\n",
    "                    else np.zeros((self.num_cell_types))\n",
    "                    for i in range(self.num_cell_types)\n",
    "                ]\n",
    "            )\n",
    "        )\n",
    "\n",
    "        t = self.epsilon_up * np.array(\n",
    "            [\n",
    "                [\n",
    "                    np.sum(\n",
    "                        (\n",
    "                            self.mvk[:, k, None]\n",
    "                            * (\n",
    "                                x\n",
    "                                - self.beta[i, None, :]\n",
    "                                - self.epsilon_up\n",
    "                                * np.sum(\n",
    "                                    self.rho[i, self.Z[self.graph], :]\n",
    "                                    * (self.Z[self.graph] != k)[:, :, None],\n",
    "                                    axis=1,\n",
    "                                )\n",
    "                            )\n",
    "                        )\n",
    "                        * (self.Z == i)[:, None],\n",
    "                        axis=0,\n",
    "                    )\n",
    "                    for k in range(self.num_cell_types)\n",
    "                ]\n",
    "                for i in range(self.num_cell_types)\n",
    "            ]\n",
    "        )\n",
    "\n",
    "        #         for i in range(self.num_cell_types):\n",
    "        #             mu[i] = self.epsilon_up * (\n",
    "        #                 self.mvk[self.Vi[i]].sum(axis=0) if len(self.Vi[i]) else np.zeros((self.num_cell_types))\n",
    "        #             )\n",
    "        return np.random.normal(\n",
    "            eta[:, :, None] * t, np.sqrt((self.S ** 2) * eta[:, :, None])\n",
    "        )\n",
    "\n",
    "    def log_pz(self, x, v, k):\n",
    "        # logp(z_v = k) + constant\n",
    "        term1 = (\n",
    "            (\n",
    "                self.beta[k]\n",
    "                - x[v]\n",
    "                + self.epsilon_up\n",
    "                * self.rho[self.Z[v]][self.Z[self.graph[v]]].sum(axis=0)\n",
    "            )\n",
    "            ** 2\n",
    "        ).sum()\n",
    "\n",
    "        neighbors = self.graph_reverse[v]\n",
    "        if len(neighbors):\n",
    "            zw = self.Z[neighbors]\n",
    "            old_zv = self.Z[v]\n",
    "            self.Z[v] = k\n",
    "\n",
    "            term2 = (\n",
    "                (\n",
    "                    self.beta[zw]\n",
    "                    - x[neighbors]\n",
    "                    + self.epsilon_up\n",
    "                    * self.rho[zw[:, None], self.Z[self.graph[neighbors]], :].sum(\n",
    "                        axis=1\n",
    "                    )\n",
    "                )\n",
    "                ** 2\n",
    "            ).sum()\n",
    "\n",
    "            self.Z[v] = old_zv\n",
    "        else:\n",
    "            term2 = 0\n",
    "\n",
    "        return term1 + term2\n",
    "\n",
    "    def sample_Z(self, x):\n",
    "        log_vals = np.array(\n",
    "            [\n",
    "                [\n",
    "#                                         self._log_joint(\n",
    "#                                             x, self.Z + (k - self.Z[i]) * (np.arange(self.num_cells) == i)\n",
    "#                                         )\n",
    "                    - self.log_pz(x, i, k) + np.log(self.pi[k])\n",
    "                    for k in range(self.num_cell_types)\n",
    "                ]\n",
    "                for i in range(self.num_cells)\n",
    "            ]\n",
    "        )\n",
    "        log_vals -= np.max(log_vals, axis=1)[:, None]\n",
    "        probas = np.exp(log_vals) / np.sum(np.exp(log_vals), axis=1)[:, None]\n",
    "        return np.array(\n",
    "            [\n",
    "                np.random.choice(np.arange(self.num_cell_types), p=probas[v])\n",
    "                for v in range(self.num_cells)\n",
    "            ]\n",
    "        )\n",
    "\n",
    "    \"\"\"\n",
    "        This function computes the log-joint for a specified Z, which is used while sampling Z. \n",
    "        To get the log-joint for the current value of the parameters, use log_joint\n",
    "    \"\"\"\n",
    "\n",
    "    def _log_joint(self, x, Z):\n",
    "        temp = np.sum(np.log(self.pi[Z]))\n",
    "        loc = np.array(\n",
    "            [\n",
    "                self.beta[Z[v], :]\n",
    "                + self.epsilon_up * np.sum(self.rho[Z[v], Z[self.graph[v]], :], axis=0)\n",
    "                for v in range(self.num_cells)\n",
    "            ]\n",
    "        )\n",
    "        return temp + np.sum(norm.logpdf(x, loc, self.S * np.ones(loc.shape)))\n",
    "\n",
    "    def log_joint(self, x):\n",
    "        return self._log_joint(x, self.Z)\n",
    "\n",
    "    def train_(self, num_epochs, x):\n",
    "        for _ in range(num_epochs):\n",
    "            self.update_Z(self.sample_Z(x))\n",
    "            self.pi = self.sample_pi()\n",
    "            self.beta = self.sample_beta(x)\n",
    "            self.rho = self.sample_rho(x)\n",
    "            self.log_joints.append(self.log_joint(x))\n",
    "\n",
    "    def train(self, num_epochs, x):\n",
    "        for _ in range(num_epochs):\n",
    "            self.update_Z(self.sample_Z(x))\n",
    "            self.pi = self.sample_pi()\n",
    "            self.beta = self.sample_beta(x)\n",
    "            self.rho = self.sample_rho(x)\n",
    "            self.log_joints.append(self.log_joint(x))\n",
    "\n",
    "    def plot(self):\n",
    "        plt.plot(np.arange(len(self.log_joints)), self.log_joints)"
   ]
  },
  {
   "cell_type": "code",
   "execution_count": 541,
   "metadata": {},
   "outputs": [],
   "source": [
    "n_cells = 500\n",
    "n_cell_types = 3\n",
    "n_genes = 6\n",
    "K = 3\n",
    "epsilon = 0.73"
   ]
  },
  {
   "cell_type": "code",
   "execution_count": 542,
   "metadata": {},
   "outputs": [
    {
     "data": {
      "text/plain": [
       "<matplotlib.collections.PathCollection at 0x7f0637086ad0>"
      ]
     },
     "execution_count": 542,
     "metadata": {},
     "output_type": "execute_result"
    },
    {
     "data": {
      "image/png": "[encoded data removed]",
      "text/plain": [
       "<Figure size 432x288 with 1 Axes>"
      ]
     },
     "metadata": {
      "needs_background": "light"
     },
     "output_type": "display_data"
    }
   ],
   "source": [
    "np.random.seed(2)\n",
    "dg = DataGenerator(n_cells, n_cell_types, n_genes, K, epsilon)\n",
    "expression = dg.generate_gene_expression(epsilon, n_cells)\n",
    "\n",
    "plt.scatter(*expression.T[:2], c=dg.cell_types)"
   ]
  },
  {
   "cell_type": "code",
   "execution_count": 543,
   "metadata": {},
   "outputs": [],
   "source": [
    "sampler = GibbsSampler(n_cells, n_cell_types, n_genes, 10, 1, epsilon, dg.graph, dg.graph_reversed)\n",
    "\n",
    "sampler.train(100, expression)"
   ]
  },
  {
   "cell_type": "code",
   "execution_count": 589,
   "metadata": {},
   "outputs": [],
   "source": [
    "sampler.train(100, expression)"
   ]
  },
  {
   "cell_type": "code",
   "execution_count": 590,
   "metadata": {},
   "outputs": [
    {
     "data": {
      "image/png": "[encoded data removed]",
      "text/plain": [
       "<Figure size 432x288 with 1 Axes>"
      ]
     },
     "metadata": {
      "needs_background": "light"
     },
     "output_type": "display_data"
    }
   ],
   "source": [
    "sampler.plot()"
   ]
  },
  {
   "cell_type": "code",
   "execution_count": 588,
   "metadata": {},
   "outputs": [],
   "source": [
    "sampler.rho = dg.perturbation\n",
    "sampler.Z = dg.cell_types\n",
    "sampler.beta = dg.initial_cell_carac"
   ]
  },
  {
   "cell_type": "code",
   "execution_count": 521,
   "metadata": {},
   "outputs": [],
   "source": [
    "from collections import defaultdict"
   ]
  },
  {
   "cell_type": "code",
   "execution_count": 523,
   "metadata": {},
   "outputs": [],
   "source": [
    "def sample(sampler, n_samples = 10):\n",
    "    res = defaultdict(list)\n",
    "    for _ in range(n_samples):\n",
    "        sampler.train(25, expression)\n",
    "        res[\"rho\"].append(sampler.rho)\n",
    "        res[\"beta\"].append(sampler.beta)\n",
    "        res[\"z\"].append(sampler.Z)\n",
    "        res[\"pi\"].append(sampler.pi)\n",
    "    for k in res:\n",
    "        res[k] = np.array(res[k])\n",
    "    return res\n",
    "    "
   ]
  },
  {
   "cell_type": "code",
   "execution_count": 591,
   "metadata": {},
   "outputs": [],
   "source": [
    "s = sample(sampler, 10)"
   ]
  },
  {
   "cell_type": "code",
   "execution_count": 552,
   "metadata": {},
   "outputs": [],
   "source": [
    "from scipy.stats import mode"
   ]
  },
  {
   "cell_type": "code",
   "execution_count": 571,
   "metadata": {},
   "outputs": [],
   "source": [
    "clusters_pred = mode(s[\"z\"], axis=0).mode[0]"
   ]
  },
  {
   "cell_type": "code",
   "execution_count": 572,
   "metadata": {},
   "outputs": [],
   "source": [
    "groundtruth = dg.cell_types"
   ]
  },
  {
   "cell_type": "code",
   "execution_count": 573,
   "metadata": {},
   "outputs": [
    {
     "data": {
      "text/plain": [
       "array([1, 1, 2, 0, 0, 2, 0, 0, 0, 1, 1, 0, 1, 2, 1, 1, 1, 2, 1, 0, 2, 1,\n",
       "       1, 0, 2, 0, 1, 1, 0, 0, 1, 0, 1, 0, 1, 0, 1, 0, 0, 1, 0, 0, 1, 2,\n",
       "       2, 2, 1, 1, 1, 0, 1, 2, 1, 0, 0, 0, 2, 1, 1, 2, 1, 0, 2, 2, 0, 1,\n",
       "       0, 2, 0, 0, 1, 0, 2, 1, 0, 2, 0, 2, 2, 0, 0, 0, 0, 2, 1, 1, 1, 2,\n",
       "       0, 0, 2, 1, 2, 2, 1, 0, 2, 2, 2, 2, 0, 0, 0, 2, 0, 2, 2, 2, 1, 1,\n",
       "       0, 0, 1, 1, 0, 2, 2, 0, 1, 2, 0, 2, 0, 2, 0, 1, 1, 0, 1, 0, 2, 1,\n",
       "       0, 2, 0, 2, 2, 2, 1, 2, 0, 0, 2, 1, 0, 1, 0, 2, 0, 1, 1, 2, 2, 2,\n",
       "       1, 1, 2, 0, 2, 1, 2, 0, 0, 0, 0, 0, 0, 2, 1, 1, 0, 0, 1, 0, 1, 0,\n",
       "       2, 2, 1, 1, 0, 1, 0, 0, 2, 1, 0, 1, 0, 0, 1, 0, 1, 2, 0, 2, 1, 2,\n",
       "       1, 0, 2, 2, 1, 2, 2, 1, 0, 2, 0, 2, 0, 2, 2, 1, 0, 1, 2, 1, 2, 0,\n",
       "       1, 0, 2, 2, 2, 0, 0, 2, 2, 1, 0, 0, 0, 0, 2, 0, 0, 0, 2, 2, 0, 0,\n",
       "       2, 2, 0, 2, 1, 1, 0, 2, 0, 1, 1, 0, 0, 0, 1, 2, 0, 0, 0, 0, 0, 1,\n",
       "       1, 1, 1, 2, 2, 1, 0, 1, 1, 0, 1, 1, 1, 2, 2, 2, 2, 1, 2, 2, 2, 0,\n",
       "       1, 1, 2, 1, 1, 1, 1, 2, 1, 2, 0, 2, 2, 1, 1, 2, 2, 1, 1, 2, 0, 0,\n",
       "       0, 1, 0, 2, 2, 1, 1, 0, 1, 2, 0, 1, 1, 1, 2, 0, 1, 2, 2, 1, 0, 1,\n",
       "       1, 2, 1, 1, 1, 1, 2, 0, 2, 1, 0, 0, 1, 0, 2, 0, 2, 0, 0, 2, 1, 0,\n",
       "       1, 2, 1, 1, 1, 0, 0, 2, 0, 0, 2, 2, 2, 2, 2, 1, 0, 1, 0, 2, 2, 1,\n",
       "       2, 2, 0, 2, 2, 0, 2, 1, 1, 1, 0, 1, 1, 2, 1, 0, 2, 2, 2, 0, 0, 1,\n",
       "       1, 1, 0, 2, 2, 0, 1, 2, 0, 0, 1, 0, 1, 0, 0, 1, 2, 2, 2, 0, 2, 0,\n",
       "       1, 2, 0, 2, 1, 0, 1, 1, 0, 0, 0, 0, 2, 1, 0, 1, 2, 0, 1, 1, 2, 1,\n",
       "       1, 1, 1, 2, 0, 1, 2, 1, 0, 0, 0, 1, 0, 0, 1, 2, 0, 1, 1, 1, 0, 0,\n",
       "       2, 1, 0, 1, 0, 0, 1, 1, 2, 1, 0, 1, 2, 0, 2, 2, 2, 1, 1, 0, 0, 0,\n",
       "       0, 0, 2, 2, 1, 0, 0, 1, 2, 2, 1, 1, 0, 2, 2, 1])"
      ]
     },
     "execution_count": 573,
     "metadata": {},
     "output_type": "execute_result"
    }
   ],
   "source": [
    "groundtruth"
   ]
  },
  {
   "cell_type": "code",
   "execution_count": 574,
   "metadata": {},
   "outputs": [
    {
     "data": {
      "text/plain": [
       "array([1, 1, 1, 2, 2, 1, 2, 2, 2, 1, 1, 2, 1, 1, 1, 1, 1, 1, 1, 2, 1, 1,\n",
       "       1, 2, 1, 0, 1, 1, 2, 2, 1, 2, 1, 2, 1, 2, 1, 2, 0, 1, 2, 2, 1, 1,\n",
       "       1, 1, 1, 1, 1, 2, 1, 1, 1, 2, 2, 2, 1, 1, 1, 1, 1, 2, 1, 1, 2, 1,\n",
       "       2, 1, 2, 2, 1, 2, 1, 1, 2, 1, 2, 1, 1, 2, 2, 2, 2, 1, 1, 1, 1, 1,\n",
       "       2, 0, 1, 1, 1, 1, 1, 0, 1, 1, 1, 1, 2, 0, 2, 1, 2, 1, 1, 1, 1, 1,\n",
       "       2, 0, 1, 1, 2, 1, 1, 2, 1, 1, 2, 1, 2, 1, 2, 1, 1, 2, 1, 0, 1, 1,\n",
       "       2, 1, 2, 1, 1, 1, 1, 1, 2, 2, 1, 1, 0, 1, 2, 1, 0, 1, 1, 1, 1, 1,\n",
       "       1, 1, 1, 2, 1, 1, 1, 2, 2, 2, 2, 2, 2, 1, 1, 1, 2, 2, 1, 2, 1, 2,\n",
       "       1, 1, 1, 1, 0, 1, 0, 2, 1, 1, 2, 1, 0, 2, 1, 2, 1, 1, 2, 1, 1, 1,\n",
       "       1, 2, 1, 1, 1, 1, 1, 1, 2, 1, 0, 1, 2, 1, 1, 1, 2, 1, 1, 1, 1, 2,\n",
       "       1, 2, 1, 1, 1, 2, 2, 1, 1, 1, 0, 2, 0, 2, 1, 2, 0, 2, 1, 1, 0, 2,\n",
       "       1, 1, 2, 1, 1, 1, 2, 1, 2, 1, 1, 2, 0, 2, 1, 1, 2, 2, 2, 2, 0, 1,\n",
       "       1, 1, 1, 1, 1, 1, 2, 1, 1, 0, 1, 1, 1, 1, 1, 1, 1, 1, 1, 1, 1, 2,\n",
       "       1, 1, 1, 1, 1, 1, 1, 1, 1, 1, 0, 1, 1, 1, 1, 1, 1, 1, 1, 1, 2, 2,\n",
       "       0, 1, 2, 1, 1, 1, 1, 2, 1, 1, 2, 1, 1, 1, 1, 2, 1, 1, 1, 1, 2, 1,\n",
       "       1, 1, 1, 1, 1, 1, 1, 0, 1, 1, 2, 2, 1, 2, 1, 2, 1, 2, 2, 1, 1, 2,\n",
       "       1, 1, 1, 1, 1, 2, 2, 1, 2, 2, 1, 1, 1, 1, 1, 1, 2, 1, 2, 1, 1, 1,\n",
       "       1, 1, 0, 1, 1, 2, 1, 1, 1, 1, 2, 1, 1, 1, 1, 0, 1, 1, 1, 2, 2, 1,\n",
       "       1, 1, 2, 1, 1, 0, 1, 1, 0, 2, 1, 2, 1, 0, 0, 1, 1, 1, 1, 2, 1, 0,\n",
       "       1, 1, 0, 1, 1, 2, 1, 1, 2, 2, 2, 0, 1, 1, 2, 1, 1, 2, 1, 1, 1, 1,\n",
       "       1, 1, 1, 1, 2, 1, 1, 1, 2, 2, 0, 1, 2, 2, 1, 1, 0, 1, 1, 1, 2, 2,\n",
       "       1, 1, 2, 1, 2, 2, 1, 1, 1, 1, 2, 1, 1, 0, 1, 1, 1, 1, 1, 2, 2, 0,\n",
       "       2, 2, 1, 1, 1, 2, 2, 1, 1, 1, 1, 1, 2, 1, 1, 1])"
      ]
     },
     "execution_count": 574,
     "metadata": {},
     "output_type": "execute_result"
    }
   ],
   "source": [
    "clusters_pred"
   ]
  },
  {
   "cell_type": "code",
   "execution_count": 533,
   "metadata": {},
   "outputs": [],
   "source": [
    "from sklearn.metrics import normalized_mutual_info_score"
   ]
  },
  {
   "cell_type": "code",
   "execution_count": 536,
   "metadata": {},
   "outputs": [
    {
     "name": "stderr",
     "output_type": "stream",
     "text": [
      "/home/achille/miniconda3/envs/scvi-update/lib/python3.7/site-packages/sklearn/metrics/cluster/supervised.py:844: FutureWarning: The behavior of NMI will change in version 0.22. To match the behavior of 'v_measure_score', NMI will use average_method='arithmetic' by default.\n",
      "  FutureWarning)\n"
     ]
    },
    {
     "data": {
      "text/plain": [
       "1.0"
      ]
     },
     "execution_count": 536,
     "metadata": {},
     "output_type": "execute_result"
    }
   ],
   "source": [
    "normalized_mutual_info_score(clusters_pred, groundtruth)"
   ]
  },
  {
   "cell_type": "code",
   "execution_count": 538,
   "metadata": {},
   "outputs": [],
   "source": [
    "np.random.seed(2)\n",
    "dg = DataGenerator(n_cells, n_cell_types, n_genes, K, epsilon)\n",
    "    "
   ]
  },
  {
   "cell_type": "code",
   "execution_count": 540,
   "metadata": {},
   "outputs": [
    {
     "name": "stderr",
     "output_type": "stream",
     "text": [
      "/home/achille/miniconda3/envs/scvi-update/lib/python3.7/site-packages/sklearn/metrics/cluster/supervised.py:844: FutureWarning: The behavior of NMI will change in version 0.22. To match the behavior of 'v_measure_score', NMI will use average_method='arithmetic' by default.\n",
      "  FutureWarning)\n"
     ]
    },
    {
     "name": "stdout",
     "output_type": "stream",
     "text": [
      "0.0 1.0\n"
     ]
    },
    {
     "name": "stderr",
     "output_type": "stream",
     "text": [
      "/home/achille/miniconda3/envs/scvi-update/lib/python3.7/site-packages/sklearn/metrics/cluster/supervised.py:844: FutureWarning: The behavior of NMI will change in version 0.22. To match the behavior of 'v_measure_score', NMI will use average_method='arithmetic' by default.\n",
      "  FutureWarning)\n"
     ]
    },
    {
     "name": "stdout",
     "output_type": "stream",
     "text": [
      "0.10526315789473684 1.0\n"
     ]
    },
    {
     "name": "stderr",
     "output_type": "stream",
     "text": [
      "/home/achille/miniconda3/envs/scvi-update/lib/python3.7/site-packages/sklearn/metrics/cluster/supervised.py:844: FutureWarning: The behavior of NMI will change in version 0.22. To match the behavior of 'v_measure_score', NMI will use average_method='arithmetic' by default.\n",
      "  FutureWarning)\n"
     ]
    },
    {
     "name": "stdout",
     "output_type": "stream",
     "text": [
      "0.21052631578947367 1.0\n"
     ]
    },
    {
     "name": "stderr",
     "output_type": "stream",
     "text": [
      "/home/achille/miniconda3/envs/scvi-update/lib/python3.7/site-packages/sklearn/metrics/cluster/supervised.py:844: FutureWarning: The behavior of NMI will change in version 0.22. To match the behavior of 'v_measure_score', NMI will use average_method='arithmetic' by default.\n",
      "  FutureWarning)\n"
     ]
    },
    {
     "name": "stdout",
     "output_type": "stream",
     "text": [
      "0.3157894736842105 1.0\n"
     ]
    },
    {
     "name": "stderr",
     "output_type": "stream",
     "text": [
      "/home/achille/miniconda3/envs/scvi-update/lib/python3.7/site-packages/sklearn/metrics/cluster/supervised.py:844: FutureWarning: The behavior of NMI will change in version 0.22. To match the behavior of 'v_measure_score', NMI will use average_method='arithmetic' by default.\n",
      "  FutureWarning)\n"
     ]
    },
    {
     "name": "stdout",
     "output_type": "stream",
     "text": [
      "0.42105263157894735 1.0\n"
     ]
    },
    {
     "name": "stderr",
     "output_type": "stream",
     "text": [
      "/home/achille/miniconda3/envs/scvi-update/lib/python3.7/site-packages/sklearn/metrics/cluster/supervised.py:844: FutureWarning: The behavior of NMI will change in version 0.22. To match the behavior of 'v_measure_score', NMI will use average_method='arithmetic' by default.\n",
      "  FutureWarning)\n"
     ]
    },
    {
     "name": "stdout",
     "output_type": "stream",
     "text": [
      "0.5263157894736842 0.4771673250494859\n"
     ]
    },
    {
     "name": "stderr",
     "output_type": "stream",
     "text": [
      "/home/achille/miniconda3/envs/scvi-update/lib/python3.7/site-packages/sklearn/metrics/cluster/supervised.py:844: FutureWarning: The behavior of NMI will change in version 0.22. To match the behavior of 'v_measure_score', NMI will use average_method='arithmetic' by default.\n",
      "  FutureWarning)\n"
     ]
    },
    {
     "name": "stdout",
     "output_type": "stream",
     "text": [
      "0.631578947368421 0.7567895510026084\n"
     ]
    },
    {
     "name": "stderr",
     "output_type": "stream",
     "text": [
      "/home/achille/miniconda3/envs/scvi-update/lib/python3.7/site-packages/sklearn/metrics/cluster/supervised.py:844: FutureWarning: The behavior of NMI will change in version 0.22. To match the behavior of 'v_measure_score', NMI will use average_method='arithmetic' by default.\n",
      "  FutureWarning)\n"
     ]
    },
    {
     "name": "stdout",
     "output_type": "stream",
     "text": [
      "0.7368421052631579 0.352292898493842\n"
     ]
    },
    {
     "ename": "KeyboardInterrupt",
     "evalue": "",
     "output_type": "error",
     "traceback": [
      "\u001b[0;31m---------------------------------------------------------------------------\u001b[0m",
      "\u001b[0;31mKeyboardInterrupt\u001b[0m                         Traceback (most recent call last)",
      "\u001b[0;32m<ipython-input-540-c0f338055e22>\u001b[0m in \u001b[0;36m<module>\u001b[0;34m\u001b[0m\n\u001b[1;32m      5\u001b[0m     \u001b[0msampler\u001b[0m\u001b[0;34m.\u001b[0m\u001b[0mtrain\u001b[0m\u001b[0;34m(\u001b[0m\u001b[0;36m100\u001b[0m\u001b[0;34m,\u001b[0m \u001b[0mexpression\u001b[0m\u001b[0;34m)\u001b[0m\u001b[0;34m\u001b[0m\u001b[0;34m\u001b[0m\u001b[0m\n\u001b[1;32m      6\u001b[0m \u001b[0;34m\u001b[0m\u001b[0m\n\u001b[0;32m----> 7\u001b[0;31m     \u001b[0ms\u001b[0m \u001b[0;34m=\u001b[0m \u001b[0msample\u001b[0m\u001b[0;34m(\u001b[0m\u001b[0msampler\u001b[0m\u001b[0;34m,\u001b[0m \u001b[0;36m10\u001b[0m\u001b[0;34m)\u001b[0m\u001b[0;34m\u001b[0m\u001b[0;34m\u001b[0m\u001b[0m\n\u001b[0m\u001b[1;32m      8\u001b[0m     \u001b[0mclusters_pred\u001b[0m \u001b[0;34m=\u001b[0m \u001b[0mmode\u001b[0m\u001b[0;34m(\u001b[0m\u001b[0ms\u001b[0m\u001b[0;34m[\u001b[0m\u001b[0;34m\"z\"\u001b[0m\u001b[0;34m]\u001b[0m\u001b[0;34m,\u001b[0m \u001b[0maxis\u001b[0m\u001b[0;34m=\u001b[0m\u001b[0;36m0\u001b[0m\u001b[0;34m)\u001b[0m\u001b[0;34m.\u001b[0m\u001b[0mmode\u001b[0m\u001b[0;34m[\u001b[0m\u001b[0;36m0\u001b[0m\u001b[0;34m]\u001b[0m\u001b[0;34m\u001b[0m\u001b[0;34m\u001b[0m\u001b[0m\n\u001b[1;32m      9\u001b[0m     \u001b[0mgroundtruth\u001b[0m \u001b[0;34m=\u001b[0m \u001b[0mdg\u001b[0m\u001b[0;34m.\u001b[0m\u001b[0mcell_types\u001b[0m\u001b[0;34m\u001b[0m\u001b[0;34m\u001b[0m\u001b[0m\n",
      "\u001b[0;32m<ipython-input-523-139585c98594>\u001b[0m in \u001b[0;36msample\u001b[0;34m(sampler, n_samples)\u001b[0m\n\u001b[1;32m      2\u001b[0m     \u001b[0mres\u001b[0m \u001b[0;34m=\u001b[0m \u001b[0mdefaultdict\u001b[0m\u001b[0;34m(\u001b[0m\u001b[0mlist\u001b[0m\u001b[0;34m)\u001b[0m\u001b[0;34m\u001b[0m\u001b[0;34m\u001b[0m\u001b[0m\n\u001b[1;32m      3\u001b[0m     \u001b[0;32mfor\u001b[0m \u001b[0m_\u001b[0m \u001b[0;32min\u001b[0m \u001b[0mrange\u001b[0m\u001b[0;34m(\u001b[0m\u001b[0mn_samples\u001b[0m\u001b[0;34m)\u001b[0m\u001b[0;34m:\u001b[0m\u001b[0;34m\u001b[0m\u001b[0;34m\u001b[0m\u001b[0m\n\u001b[0;32m----> 4\u001b[0;31m         \u001b[0msampler\u001b[0m\u001b[0;34m.\u001b[0m\u001b[0mtrain\u001b[0m\u001b[0;34m(\u001b[0m\u001b[0;36m25\u001b[0m\u001b[0;34m,\u001b[0m \u001b[0mexpression\u001b[0m\u001b[0;34m)\u001b[0m\u001b[0;34m\u001b[0m\u001b[0;34m\u001b[0m\u001b[0m\n\u001b[0m\u001b[1;32m      5\u001b[0m         \u001b[0mres\u001b[0m\u001b[0;34m[\u001b[0m\u001b[0;34m\"rho\"\u001b[0m\u001b[0;34m]\u001b[0m\u001b[0;34m.\u001b[0m\u001b[0mappend\u001b[0m\u001b[0;34m(\u001b[0m\u001b[0msampler\u001b[0m\u001b[0;34m.\u001b[0m\u001b[0mrho\u001b[0m\u001b[0;34m)\u001b[0m\u001b[0;34m\u001b[0m\u001b[0;34m\u001b[0m\u001b[0m\n\u001b[1;32m      6\u001b[0m         \u001b[0mres\u001b[0m\u001b[0;34m[\u001b[0m\u001b[0;34m\"beta\"\u001b[0m\u001b[0;34m]\u001b[0m\u001b[0;34m.\u001b[0m\u001b[0mappend\u001b[0m\u001b[0;34m(\u001b[0m\u001b[0msampler\u001b[0m\u001b[0;34m.\u001b[0m\u001b[0mbeta\u001b[0m\u001b[0;34m)\u001b[0m\u001b[0;34m\u001b[0m\u001b[0;34m\u001b[0m\u001b[0m\n",
      "\u001b[0;32m<ipython-input-449-767e8dcf1246>\u001b[0m in \u001b[0;36mtrain\u001b[0;34m(self, num_epochs, x)\u001b[0m\n\u001b[1;32m    234\u001b[0m     \u001b[0;32mdef\u001b[0m \u001b[0mtrain\u001b[0m\u001b[0;34m(\u001b[0m\u001b[0mself\u001b[0m\u001b[0;34m,\u001b[0m \u001b[0mnum_epochs\u001b[0m\u001b[0;34m,\u001b[0m \u001b[0mx\u001b[0m\u001b[0;34m)\u001b[0m\u001b[0;34m:\u001b[0m\u001b[0;34m\u001b[0m\u001b[0;34m\u001b[0m\u001b[0m\n\u001b[1;32m    235\u001b[0m         \u001b[0;32mfor\u001b[0m \u001b[0m_\u001b[0m \u001b[0;32min\u001b[0m \u001b[0mrange\u001b[0m\u001b[0;34m(\u001b[0m\u001b[0mnum_epochs\u001b[0m\u001b[0;34m)\u001b[0m\u001b[0;34m:\u001b[0m\u001b[0;34m\u001b[0m\u001b[0;34m\u001b[0m\u001b[0m\n\u001b[0;32m--> 236\u001b[0;31m             \u001b[0mself\u001b[0m\u001b[0;34m.\u001b[0m\u001b[0mupdate_Z\u001b[0m\u001b[0;34m(\u001b[0m\u001b[0mself\u001b[0m\u001b[0;34m.\u001b[0m\u001b[0msample_Z\u001b[0m\u001b[0;34m(\u001b[0m\u001b[0mx\u001b[0m\u001b[0;34m)\u001b[0m\u001b[0;34m)\u001b[0m\u001b[0;34m\u001b[0m\u001b[0;34m\u001b[0m\u001b[0m\n\u001b[0m\u001b[1;32m    237\u001b[0m             \u001b[0mself\u001b[0m\u001b[0;34m.\u001b[0m\u001b[0mpi\u001b[0m \u001b[0;34m=\u001b[0m \u001b[0mself\u001b[0m\u001b[0;34m.\u001b[0m\u001b[0msample_pi\u001b[0m\u001b[0;34m(\u001b[0m\u001b[0;34m)\u001b[0m\u001b[0;34m\u001b[0m\u001b[0;34m\u001b[0m\u001b[0m\n\u001b[1;32m    238\u001b[0m             \u001b[0mself\u001b[0m\u001b[0;34m.\u001b[0m\u001b[0mbeta\u001b[0m \u001b[0;34m=\u001b[0m \u001b[0mself\u001b[0m\u001b[0;34m.\u001b[0m\u001b[0msample_beta\u001b[0m\u001b[0;34m(\u001b[0m\u001b[0mx\u001b[0m\u001b[0;34m)\u001b[0m\u001b[0;34m\u001b[0m\u001b[0;34m\u001b[0m\u001b[0m\n",
      "\u001b[0;32m<ipython-input-449-767e8dcf1246>\u001b[0m in \u001b[0;36msample_Z\u001b[0;34m(self, x)\u001b[0m\n\u001b[1;32m    193\u001b[0m                     \u001b[0;32mfor\u001b[0m \u001b[0mk\u001b[0m \u001b[0;32min\u001b[0m \u001b[0mrange\u001b[0m\u001b[0;34m(\u001b[0m\u001b[0mself\u001b[0m\u001b[0;34m.\u001b[0m\u001b[0mnum_cell_types\u001b[0m\u001b[0;34m)\u001b[0m\u001b[0;34m\u001b[0m\u001b[0;34m\u001b[0m\u001b[0m\n\u001b[1;32m    194\u001b[0m                 ]\n\u001b[0;32m--> 195\u001b[0;31m                 \u001b[0;32mfor\u001b[0m \u001b[0mi\u001b[0m \u001b[0;32min\u001b[0m \u001b[0mrange\u001b[0m\u001b[0;34m(\u001b[0m\u001b[0mself\u001b[0m\u001b[0;34m.\u001b[0m\u001b[0mnum_cells\u001b[0m\u001b[0;34m)\u001b[0m\u001b[0;34m\u001b[0m\u001b[0;34m\u001b[0m\u001b[0m\n\u001b[0m\u001b[1;32m    196\u001b[0m             ]\n\u001b[1;32m    197\u001b[0m         )\n",
      "\u001b[0;32m<ipython-input-449-767e8dcf1246>\u001b[0m in \u001b[0;36m<listcomp>\u001b[0;34m(.0)\u001b[0m\n\u001b[1;32m    193\u001b[0m                     \u001b[0;32mfor\u001b[0m \u001b[0mk\u001b[0m \u001b[0;32min\u001b[0m \u001b[0mrange\u001b[0m\u001b[0;34m(\u001b[0m\u001b[0mself\u001b[0m\u001b[0;34m.\u001b[0m\u001b[0mnum_cell_types\u001b[0m\u001b[0;34m)\u001b[0m\u001b[0;34m\u001b[0m\u001b[0;34m\u001b[0m\u001b[0m\n\u001b[1;32m    194\u001b[0m                 ]\n\u001b[0;32m--> 195\u001b[0;31m                 \u001b[0;32mfor\u001b[0m \u001b[0mi\u001b[0m \u001b[0;32min\u001b[0m \u001b[0mrange\u001b[0m\u001b[0;34m(\u001b[0m\u001b[0mself\u001b[0m\u001b[0;34m.\u001b[0m\u001b[0mnum_cells\u001b[0m\u001b[0;34m)\u001b[0m\u001b[0;34m\u001b[0m\u001b[0;34m\u001b[0m\u001b[0m\n\u001b[0m\u001b[1;32m    196\u001b[0m             ]\n\u001b[1;32m    197\u001b[0m         )\n",
      "\u001b[0;32m<ipython-input-449-767e8dcf1246>\u001b[0m in \u001b[0;36m<listcomp>\u001b[0;34m(.0)\u001b[0m\n\u001b[1;32m    191\u001b[0m \u001b[0;31m#                                         )\u001b[0m\u001b[0;34m\u001b[0m\u001b[0;34m\u001b[0m\u001b[0;34m\u001b[0m\u001b[0m\n\u001b[1;32m    192\u001b[0m                     \u001b[0;34m-\u001b[0m \u001b[0mself\u001b[0m\u001b[0;34m.\u001b[0m\u001b[0mlog_pz\u001b[0m\u001b[0;34m(\u001b[0m\u001b[0mx\u001b[0m\u001b[0;34m,\u001b[0m \u001b[0mi\u001b[0m\u001b[0;34m,\u001b[0m \u001b[0mk\u001b[0m\u001b[0;34m)\u001b[0m \u001b[0;34m+\u001b[0m \u001b[0mnp\u001b[0m\u001b[0;34m.\u001b[0m\u001b[0mlog\u001b[0m\u001b[0;34m(\u001b[0m\u001b[0mself\u001b[0m\u001b[0;34m.\u001b[0m\u001b[0mpi\u001b[0m\u001b[0;34m[\u001b[0m\u001b[0mk\u001b[0m\u001b[0;34m]\u001b[0m\u001b[0;34m)\u001b[0m\u001b[0;34m\u001b[0m\u001b[0;34m\u001b[0m\u001b[0m\n\u001b[0;32m--> 193\u001b[0;31m                     \u001b[0;32mfor\u001b[0m \u001b[0mk\u001b[0m \u001b[0;32min\u001b[0m \u001b[0mrange\u001b[0m\u001b[0;34m(\u001b[0m\u001b[0mself\u001b[0m\u001b[0;34m.\u001b[0m\u001b[0mnum_cell_types\u001b[0m\u001b[0;34m)\u001b[0m\u001b[0;34m\u001b[0m\u001b[0;34m\u001b[0m\u001b[0m\n\u001b[0m\u001b[1;32m    194\u001b[0m                 ]\n\u001b[1;32m    195\u001b[0m                 \u001b[0;32mfor\u001b[0m \u001b[0mi\u001b[0m \u001b[0;32min\u001b[0m \u001b[0mrange\u001b[0m\u001b[0;34m(\u001b[0m\u001b[0mself\u001b[0m\u001b[0;34m.\u001b[0m\u001b[0mnum_cells\u001b[0m\u001b[0;34m)\u001b[0m\u001b[0;34m\u001b[0m\u001b[0;34m\u001b[0m\u001b[0m\n",
      "\u001b[0;32m<ipython-input-449-767e8dcf1246>\u001b[0m in \u001b[0;36mlog_pz\u001b[0;34m(self, x, v, k)\u001b[0m\n\u001b[1;32m    154\u001b[0m                 \u001b[0;34m-\u001b[0m \u001b[0mx\u001b[0m\u001b[0;34m[\u001b[0m\u001b[0mv\u001b[0m\u001b[0;34m]\u001b[0m\u001b[0;34m\u001b[0m\u001b[0;34m\u001b[0m\u001b[0m\n\u001b[1;32m    155\u001b[0m                 \u001b[0;34m+\u001b[0m \u001b[0mself\u001b[0m\u001b[0;34m.\u001b[0m\u001b[0mepsilon_up\u001b[0m\u001b[0;34m\u001b[0m\u001b[0;34m\u001b[0m\u001b[0m\n\u001b[0;32m--> 156\u001b[0;31m                 \u001b[0;34m*\u001b[0m \u001b[0mself\u001b[0m\u001b[0;34m.\u001b[0m\u001b[0mrho\u001b[0m\u001b[0;34m[\u001b[0m\u001b[0mself\u001b[0m\u001b[0;34m.\u001b[0m\u001b[0mZ\u001b[0m\u001b[0;34m[\u001b[0m\u001b[0mv\u001b[0m\u001b[0;34m]\u001b[0m\u001b[0;34m]\u001b[0m\u001b[0;34m[\u001b[0m\u001b[0mself\u001b[0m\u001b[0;34m.\u001b[0m\u001b[0mZ\u001b[0m\u001b[0;34m[\u001b[0m\u001b[0mself\u001b[0m\u001b[0;34m.\u001b[0m\u001b[0mgraph\u001b[0m\u001b[0;34m[\u001b[0m\u001b[0mv\u001b[0m\u001b[0;34m]\u001b[0m\u001b[0;34m]\u001b[0m\u001b[0;34m]\u001b[0m\u001b[0;34m.\u001b[0m\u001b[0msum\u001b[0m\u001b[0;34m(\u001b[0m\u001b[0maxis\u001b[0m\u001b[0;34m=\u001b[0m\u001b[0;36m0\u001b[0m\u001b[0;34m)\u001b[0m\u001b[0;34m\u001b[0m\u001b[0;34m\u001b[0m\u001b[0m\n\u001b[0m\u001b[1;32m    157\u001b[0m             )\n\u001b[1;32m    158\u001b[0m             \u001b[0;34m**\u001b[0m \u001b[0;36m2\u001b[0m\u001b[0;34m\u001b[0m\u001b[0;34m\u001b[0m\u001b[0m\n",
      "\u001b[0;31mKeyboardInterrupt\u001b[0m: "
     ]
    }
   ],
   "source": [
    "score = []\n",
    "for epsilon in np.linspace(0, 2, 20):\n",
    "    expression = dg.generate_gene_expression(epsilon, n_cells)\n",
    "    sampler = GibbsSampler(n_cells, n_cell_types, n_genes, 10, 1, epsilon, dg.graph, dg.graph_reversed)\n",
    "    sampler.train(100, expression)\n",
    "    \n",
    "    s = sample(sampler, 10)\n",
    "    clusters_pred = mode(s[\"z\"], axis=0).mode[0]\n",
    "    groundtruth = dg.cell_types\n",
    "    score.append(normalized_mutual_info_score(clusters_pred, groundtruth, average_method='geometric'))\n",
    "    print(epsilon, score[-1])\n",
    "    "
   ]
  },
  {
   "cell_type": "code",
   "execution_count": 525,
   "metadata": {},
   "outputs": [
    {
     "data": {
      "text/plain": [
       "array([[1, 1, 0, ..., 0, 0, 1],\n",
       "       [1, 1, 0, ..., 0, 0, 1],\n",
       "       [1, 1, 0, ..., 0, 0, 1],\n",
       "       ...,\n",
       "       [1, 1, 0, ..., 0, 0, 1],\n",
       "       [1, 1, 0, ..., 0, 0, 1],\n",
       "       [1, 1, 0, ..., 0, 0, 1]])"
      ]
     },
     "execution_count": 525,
     "metadata": {},
     "output_type": "execute_result"
    }
   ],
   "source": []
  },
  {
   "cell_type": "code",
   "execution_count": 592,
   "metadata": {},
   "outputs": [
    {
     "data": {
      "text/plain": [
       "array([0.86975205, 1.14438111, 2.19133842, 1.39400151, 1.28254947,\n",
       "       0.71119764])"
      ]
     },
     "execution_count": 592,
     "metadata": {},
     "output_type": "execute_result"
    }
   ],
   "source": [
    "s[\"rho\"].std(axis=0)[1,1]"
   ]
  },
  {
   "cell_type": "code",
   "execution_count": 593,
   "metadata": {},
   "outputs": [
    {
     "data": {
      "text/plain": [
       "array([-11.94664252,  19.9109246 ,  20.41798479,  -3.59231231,\n",
       "         7.56142889,  -0.15291544])"
      ]
     },
     "execution_count": 593,
     "metadata": {},
     "output_type": "execute_result"
    }
   ],
   "source": [
    "s[\"rho\"].mean(axis=0)[1,1]"
   ]
  },
  {
   "cell_type": "code",
   "execution_count": 594,
   "metadata": {},
   "outputs": [
    {
     "data": {
      "text/plain": [
       "array([-18.68090655,  17.31184666,  14.67678011,  -3.35677339,\n",
       "         6.1134078 ,   0.47970592])"
      ]
     },
     "execution_count": 594,
     "metadata": {},
     "output_type": "execute_result"
    }
   ],
   "source": [
    "dg.perturbation[1,1]"
   ]
  },
  {
   "cell_type": "code",
   "execution_count": 83,
   "metadata": {},
   "outputs": [
    {
     "data": {
      "text/plain": [
       "array([1, 1, 1, 0, 1, 0, 2, 1, 2, 0])"
      ]
     },
     "execution_count": 83,
     "metadata": {},
     "output_type": "execute_result"
    }
   ],
   "source": [
    "sampler.Z"
   ]
  },
  {
   "cell_type": "code",
   "execution_count": 84,
   "metadata": {},
   "outputs": [
    {
     "data": {
      "text/plain": [
       "array([0, 0, 0, 1, 0, 1, 2, 0, 2, 1])"
      ]
     },
     "execution_count": 84,
     "metadata": {},
     "output_type": "execute_result"
    }
   ],
   "source": [
    "dg.cell_types"
   ]
  },
  {
   "cell_type": "code",
   "execution_count": 74,
   "metadata": {},
   "outputs": [],
   "source": [
    "gs = GibbsSamplerO(expression, 3)"
   ]
  },
  {
   "cell_type": "code",
   "execution_count": 75,
   "metadata": {},
   "outputs": [
    {
     "data": {
      "text/plain": [
       "[-3401.748983306175,\n",
       " -54.916211294836316,\n",
       " -51.59809172499874,\n",
       " -49.07265200216855,\n",
       " -56.10167814061352,\n",
       " -51.52813875663723,\n",
       " -53.81353752714547,\n",
       " -54.606687248189786,\n",
       " -52.557764608237086,\n",
       " -59.16501729772925,\n",
       " -47.61986065806933,\n",
       " -55.77690676399175,\n",
       " -55.3966444221681,\n",
       " -49.58302740791405,\n",
       " -52.84935263562221,\n",
       " -50.48625987901906,\n",
       " -54.081470862860755,\n",
       " -55.036087668050484,\n",
       " -58.95000326025008,\n",
       " -49.91075351089705,\n",
       " -56.758703165533475,\n",
       " -49.40577401900014,\n",
       " -51.58808436325172,\n",
       " -53.670682669272885,\n",
       " -59.967954526825984,\n",
       " -53.44730879971517,\n",
       " -51.34973788039145,\n",
       " -50.30806285483588,\n",
       " -55.170031077681266,\n",
       " -51.86715520231809,\n",
       " -52.114049391170774,\n",
       " -48.757991692402314,\n",
       " -51.87268754151549,\n",
       " -55.332945275087994,\n",
       " -51.571922911028494,\n",
       " -49.802607168480726,\n",
       " -54.79065614218608,\n",
       " -59.74482858127561,\n",
       " -53.517063519974975,\n",
       " -53.93223384348598,\n",
       " -51.78100695461344,\n",
       " -53.62428786472539,\n",
       " -52.077436537071975,\n",
       " -50.116266137424574,\n",
       " -50.580928371281246,\n",
       " -52.5916317685823,\n",
       " -53.952769909637794,\n",
       " -54.71272565165113,\n",
       " -53.8191376292303,\n",
       " -51.74244896340388,\n",
       " -53.06136760491823,\n",
       " -55.27467477910996,\n",
       " -50.95471706254575,\n",
       " -53.69456535918476,\n",
       " -61.161169602915024,\n",
       " -54.05465860138475,\n",
       " -50.371511310376945,\n",
       " -51.99215670353331,\n",
       " -49.81473019429242,\n",
       " -53.21739033329977,\n",
       " -54.17769549747914,\n",
       " -52.29312254365598,\n",
       " -53.975145836719584,\n",
       " -55.07403468428824,\n",
       " -52.46050933717232,\n",
       " -53.02515216658577,\n",
       " -51.85325153583566,\n",
       " -57.47044097162459,\n",
       " -48.8071138229077,\n",
       " -50.6884854166229,\n",
       " -55.06722833822391,\n",
       " -50.10536091085749,\n",
       " -54.2388742819463,\n",
       " -51.505194073466186,\n",
       " -57.72648532812825,\n",
       " -52.26622405779396,\n",
       " -49.695734884499245,\n",
       " -55.717591593005366,\n",
       " -51.371226487586455,\n",
       " -52.87101540134039,\n",
       " -51.31605116717465,\n",
       " -50.254844728133484,\n",
       " -54.68581101352208,\n",
       " -52.453704586392355,\n",
       " -50.136121172751196,\n",
       " -53.788723520459904,\n",
       " -52.363234855981474,\n",
       " -56.56940028498196,\n",
       " -50.29827080639401,\n",
       " -51.8091450850142,\n",
       " -52.818907600918706,\n",
       " -55.12837383822502,\n",
       " -49.96002377925378,\n",
       " -50.90081629663402,\n",
       " -52.01947397997736,\n",
       " -52.576892272640286,\n",
       " -51.60625415571498,\n",
       " -50.751385857227504,\n",
       " -53.06120354754981,\n",
       " -52.95574125139429,\n",
       " -49.38137876362912]"
      ]
     },
     "execution_count": 75,
     "metadata": {},
     "output_type": "execute_result"
    }
   ],
   "source": [
    "gs.run_gibbs(100)"
   ]
  },
  {
   "cell_type": "code",
   "execution_count": 76,
   "metadata": {},
   "outputs": [
    {
     "data": {
      "text/plain": [
       "{'theta': array([0.17824664, 0.28579064, 0.53596272]), 'z': array([[0, 0, 1],\n",
       "        [0, 0, 1],\n",
       "        [0, 0, 1],\n",
       "        [1, 0, 0],\n",
       "        [0, 0, 1],\n",
       "        [1, 0, 0],\n",
       "        [0, 1, 0],\n",
       "        [0, 0, 1],\n",
       "        [0, 1, 0],\n",
       "        [1, 0, 0]]), 'beta': array([[ -4.39083358,   0.0798692 ,  -8.57207756,   0.2591827 ,\n",
       "          -5.23157991],\n",
       "        [-13.41583285,   7.95059077,   9.18353537,  14.98887881,\n",
       "           1.45680536],\n",
       "        [ 17.40763078,   3.76452611,   1.82834145, -18.50243235,\n",
       "          -3.90154086]])}"
      ]
     },
     "execution_count": 76,
     "metadata": {},
     "output_type": "execute_result"
    }
   ],
   "source": [
    "gs.latent_variables[]"
   ]
  },
  {
   "cell_type": "code",
   "execution_count": 73,
   "metadata": {},
   "outputs": [],
   "source": [
    "from functools import lru_cache\n",
    "\n",
    "\n",
    "@lru_cache(4096)\n",
    "def log_fact(k):\n",
    "    if k >= 4090:\n",
    "        raise Exception(\"Value too big for our cache system\")\n",
    "    if k < 0:\n",
    "        raise ValueError\n",
    "    if k <= 1:\n",
    "        return 1\n",
    "    \n",
    "    return log_fact(k - 1) + np.log(k)\n",
    "\n",
    "for i in range(1,4090):\n",
    "    log_fact(i)\n",
    "\n",
    "\n",
    "class GibbsSamplerO:\n",
    "    def __init__(self, x, n_cat=5):\n",
    "        self.n_obs, self.dim_obs = x.shape\n",
    "        self.n_cat = n_cat\n",
    "        self.x = x\n",
    "\n",
    "        self.hyperparameters = {\n",
    "            \"dirich\": np.array([1] * self.n_cat),\n",
    "            \"sigma\": 1,\n",
    "            \"lambda\": 10\n",
    "        }\n",
    "\n",
    "        self.latent_variables = dict()\n",
    "        self.latent_variables[\"theta\"] = np.random.dirichlet(\n",
    "            self.hyperparameters[\"dirich\"]\n",
    "        )\n",
    "        self.latent_variables[\"z\"] = np.random.multinomial(\n",
    "            1, [1 / self.n_cat] * n_cat, self.n_obs\n",
    "        )\n",
    "        self.latent_variables[\"beta\"] = np.random.uniform(0,10, (self.n_cat, self.dim_obs))\n",
    "\n",
    "    def log_density_x_cond_z(self, x, z):\n",
    "        beta_z = self.latent_variables[\"beta\"][z]\n",
    "        log_proba = 0\n",
    "        for xk, bk in zip(x, beta_z):\n",
    "            log_proba += - (xk-bk)**2\n",
    "        return log_proba\n",
    "\n",
    "    def sample_zi(self, i):\n",
    "        log_densities = np.array(\n",
    "            [\n",
    "                self.log_density_x_cond_z(self.x[i], k) \n",
    "                for k in range(self.n_cat)\n",
    "            ]\n",
    "        )\n",
    "        log_proportions = log_densities + np.log(self.latent_variables[\"theta\"])\n",
    "        log_normalizing_constant = np.logaddexp.reduce(log_proportions)\n",
    "        log_proportions -= log_normalizing_constant\n",
    "        proportions = np.exp(log_proportions)\n",
    "        return np.random.multinomial(1, proportions)\n",
    "\n",
    "    def sample_beta_k(self, k):\n",
    "        sigma2 = self.hyperparameters['sigma']**2\n",
    "        lambda2 = self.hyperparameters['lambda']**2\n",
    "        cluster = self.x[self.latent_variables[\"z\"][:, k].astype(bool)]\n",
    "        if len(cluster) == 0:\n",
    "            return np.random.normal(0, lambda2)\n",
    "        nk = len(cluster)\n",
    "        muk = nk/sigma2 / (nk/sigma2 + 1/lambda2) * cluster.mean(axis=0)\n",
    "        lambdak = 1/(nk/sigma2 + 1/lambda2)\n",
    "        \n",
    "        return np.random.normal(muk, lambdak**0.5)\n",
    "        \n",
    "    def sample_theta(self):\n",
    "        alpha = self.hyperparameters[\"dirich\"]\n",
    "        z_counts = self.latent_variables[\"z\"].sum(axis=0)\n",
    "        return np.random.dirichlet(alpha + z_counts)\n",
    "\n",
    "    def one_epoch(self):\n",
    "        for i in range(self.n_obs):\n",
    "            self.latent_variables[\"z\"][i] = self.sample_zi(i)\n",
    "        self.latent_variables[\"theta\"] = self.sample_theta()\n",
    "        for k in range(self.n_cat):\n",
    "            self.latent_variables[\"beta\"][k] = self.sample_beta_k(k)\n",
    "\n",
    "    def evaluate_log_joint(self):\n",
    "        # Log theta \n",
    "        alpha = self.hyperparameters['dirich']\n",
    "        log_theta = (np.log(self.latent_variables['theta'])*(alpha-1)).sum()\n",
    "        \n",
    "        # Log beta k\n",
    "        beta = self.latent_variables['beta']\n",
    "        log_b = - np.sum(beta**2/(2*self.hyperparameters['lambda']**2))\n",
    "        \n",
    "        # Log z i\n",
    "        theta = self.latent_variables['theta']\n",
    "        log_z = np.sum(np.log(theta)*self.latent_variables['z'])\n",
    "        \n",
    "        # Log x_i\n",
    "        z = self.latent_variables['z']\n",
    "        betax = self.latent_variables['beta'][z.argmax(axis=1)]\n",
    "        log_x = -np.sum((self.x - betax)**2)/(2*self.hyperparameters['sigma']**2)\n",
    "        \n",
    "        return log_x + log_z + log_b + log_theta\n",
    "    \n",
    "    \n",
    "            \n",
    "    def run_gibbs(self, n_epochs=100):\n",
    "        hist = []\n",
    "        hist.append(self.evaluate_log_joint())\n",
    "        for i in range(n_epochs):\n",
    "            self.one_epoch()\n",
    "            hist.append(self.evaluate_log_joint())\n",
    "        return hist"
   ]
  },
  {
   "cell_type": "code",
   "execution_count": null,
   "metadata": {},
   "outputs": [],
   "source": []
  }
 ],
 "metadata": {
  "kernelspec": {
   "display_name": "Python 3",
   "language": "python",
   "name": "python3"
  },
  "language_info": {
   "codemirror_mode": {
    "name": "ipython",
    "version": 3
   },
   "file_extension": ".py",
   "mimetype": "text/x-python",
   "name": "python",
   "nbconvert_exporter": "python",
   "pygments_lexer": "ipython3",
   "version": "3.7.5"
  }
 },
 "nbformat": 4,
 "nbformat_minor": 2
}
