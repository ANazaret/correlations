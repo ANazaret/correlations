{
 "cells": [
  {
   "cell_type": "code",
   "execution_count": 1,
   "metadata": {},
   "outputs": [],
   "source": [
    "import numpy as np\n",
    "import pandas as pd\n",
    "import numpy as np\n",
    "import matplotlib.pyplot as plt\n",
    "from sklearn.model_selection import KFold\n",
    "from sklearn.neighbors import NearestNeighbors\n",
    "from scipy.stats import dirichlet, norm"
   ]
  },
  {
   "cell_type": "code",
   "execution_count": 201,
   "metadata": {},
   "outputs": [],
   "source": [
    "class DataGenerator:\n",
    "    def __init__(self, n_cells, n_cell_types, n_genes, K, epsilon=0.25):\n",
    "        self.n_cells = n_cells\n",
    "        self.n_cell_types = n_cell_types\n",
    "        self.n_genes = n_genes\n",
    "        self.K = K\n",
    "        self.epsilon = epsilon\n",
    "\n",
    "        self.graph = None\n",
    "        self.coordinates = None\n",
    "        self.neighbors_cell_types = None\n",
    "        self.perturbation = None\n",
    "        self.expression = None\n",
    "        self.cell_types = None\n",
    "        \n",
    "        self.reset()\n",
    "\n",
    "    def reset(self):\n",
    "        self.generate_cell_caracteristics()\n",
    "        self.generate_perturbation()\n",
    "        self.generate_knn_graph()\n",
    "        self.generate_cell_types()\n",
    "        self.generate_perturbed_caracteristics()\n",
    "\n",
    "    def generate_knn_graph(self):\n",
    "        self.coordinates = np.random.uniform(size=(self.n_cells, 2))\n",
    "        nn = NearestNeighbors(self.K + 1)\n",
    "        nn.fit(self.coordinates)\n",
    "        self.graph = nn.kneighbors(self.coordinates, self.K + 1)[1][:, 1:]\n",
    "\n",
    "    def generate_cell_types(self):\n",
    "        self.cell_types = np.random.choice(self.n_cell_types, size=self.n_cells)\n",
    "        self.neighbors_cell_types = np.zeros((self.n_cells, self.n_cell_types))\n",
    "        for i in range(self.n_cells):\n",
    "            cell_types, counts = np.unique(\n",
    "                self.cell_types[self.graph[i]], return_counts=True\n",
    "            )\n",
    "            self.neighbors_cell_types[i][cell_types] = counts / self.K\n",
    "\n",
    "    def generate_perturbation(self):\n",
    "        shape = (self.n_cell_types, self.n_cell_types, self.n_genes)\n",
    "        self.perturbation = np.random.normal(0, 10, size=shape)\n",
    "\n",
    "    def generate_cell_caracteristics(self):\n",
    "        shape = self.n_cell_types, self.n_genes\n",
    "        self.initial_cell_carac = np.random.normal(0, 10, size=shape)\n",
    "\n",
    "    def generate_perturbed_caracteristics(self):\n",
    "        effective_perturbation = (\n",
    "            self.perturbation[self.cell_types]\n",
    "            * self.neighbors_cell_types[:, :, np.newaxis]\n",
    "        ).sum(axis=1)\n",
    "\n",
    "        self.effective_gene_expression = (\n",
    "            self.initial_cell_carac[self.cell_types]\n",
    "            + self.epsilon * effective_perturbation\n",
    "        )\n",
    "\n",
    "    def generate_gene_expression(self, epsilon=None, n_cells=None):\n",
    "        # If epsilon or n_cells is given, resample accordingly without changing the\n",
    "        # global latent variable about cluster mean, cluster interactions\n",
    "        if n_cells is not None:\n",
    "            self.n_cells = n_cells\n",
    "            self.generate_knn_graph()\n",
    "            self.generate_cell_types()\n",
    "\n",
    "        if epsilon is not None:\n",
    "            self.epsilon = epsilon\n",
    "            self.generate_perturbed_caracteristics()\n",
    "\n",
    "        self.observations = np.random.normal(self.effective_gene_expression, 1)\n",
    "        return self.observations\n",
    "    "
   ]
  },
  {
   "cell_type": "code",
   "execution_count": null,
   "metadata": {},
   "outputs": [],
   "source": []
  },
  {
   "cell_type": "code",
   "execution_count": 226,
   "metadata": {},
   "outputs": [],
   "source": [
    "\"\"\"\n",
    "Potentiels bugs:\n",
    "    - Variance vs std\n",
    "    - rho: echange des deux premieres dimensions (i et k)\n",
    "    - code immonde\n",
    "\"\"\"\n",
    "\n",
    "\n",
    "class GibbsSampler:\n",
    "    def __init__(\n",
    "        self, num_cells, num_cell_types, num_genes, sigma, S, epsilon, graph, alpha=None\n",
    "    ):\n",
    "        self.num_cells = num_cells\n",
    "        self.num_cell_types = num_cell_types\n",
    "        self.num_genes = num_genes\n",
    "        self.epsilon = epsilon\n",
    "        self.graph = graph\n",
    "        self.epsilon_up = self.epsilon / self.graph.shape[1]\n",
    "        self.sigma = sigma\n",
    "        self.S = S\n",
    "        if alpha is None:\n",
    "            alpha = np.ones(num_cell_types)\n",
    "        self.alpha = alpha\n",
    "        self.reset()\n",
    "\n",
    "    def reset(self):\n",
    "        self.pi = np.random.dirichlet(self.alpha)\n",
    "        self.update_Z(\n",
    "            np.random.choice(self.num_cell_types, p=self.pi, size=self.num_cells)\n",
    "        )\n",
    "        self.beta = np.random.normal(\n",
    "            0, self.sigma, size=(self.num_cell_types, self.num_genes)\n",
    "        )\n",
    "        self.rho = np.random.normal(\n",
    "            0,\n",
    "            self.sigma,\n",
    "            size=(self.num_cell_types, self.num_cell_types, self.num_genes),\n",
    "        )\n",
    "        self.log_joints = []\n",
    "\n",
    "    def update_Z(self, Z):\n",
    "        self.Z = Z.astype(int)\n",
    "        self.n_i = np.array(\n",
    "            [sum([1 for z in self.Z if z == i]) for i in range(self.num_cell_types)]\n",
    "        )\n",
    "\n",
    "    def sample_pi(self):\n",
    "        return np.random.dirichlet(self.alpha + self.n_i)\n",
    "\n",
    "    def sample_beta(self, x):\n",
    "        multipliers = self.sigma ** 2 / (self.S ** 2 + self.n_i * self.sigma ** 2)\n",
    "        variances = (self.S ** 2) * multipliers\n",
    "        alphas = np.array(\n",
    "            [\n",
    "                np.sum(x * (self.Z == i)[:, None], axis=0)\n",
    "                - self.epsilon_up\n",
    "                * np.sum(\n",
    "                    np.sum(\n",
    "                        self.rho[i, self.Z[self.graph], :] * (self.Z == i)[:, None, None],\n",
    "                        axis=0,\n",
    "                    ),\n",
    "                    axis=0,\n",
    "                )\n",
    "                for i in range(self.num_cell_types)\n",
    "            ]\n",
    "        )\n",
    "        return np.random.normal(\n",
    "            multipliers[:, None] * alphas, np.sqrt(variances)[:, None]\n",
    "        )\n",
    "\n",
    "    def sample_rho(self, x):\n",
    "        m = np.array(\n",
    "            [\n",
    "                np.sum((self.Z[self.graph] == i), axis=1)\n",
    "                for i in range(self.num_cell_types)\n",
    "            ]\n",
    "        ).T\n",
    "        eta = np.array(\n",
    "            [\n",
    "                1\n",
    "                / (\n",
    "                    self.S ** 2 / (self.sigma ** 2)\n",
    "                    + (self.epsilon_up ** 2)\n",
    "                    * np.sum((m**2) * (self.Z == i)[:, None], axis=0)\n",
    "                )\n",
    "                for i in range(self.num_cell_types)\n",
    "            ]\n",
    "        )\n",
    "        t = self.epsilon_up * np.array(\n",
    "            [\n",
    "                [\n",
    "                    np.sum(\n",
    "                        (\n",
    "                            m[:, k, None]\n",
    "                            * (\n",
    "                                x\n",
    "                                - self.beta[i, None, :]\n",
    "                                - self.epsilon_up*np.sum(\n",
    "                                    self.rho[i, self.Z[self.graph], :]\n",
    "                                    * (self.Z[self.graph] != k)[:, :, None],\n",
    "                                    axis=1,\n",
    "                                )\n",
    "                            )\n",
    "                        )\n",
    "                        * (self.Z == i)[:, None],\n",
    "                        axis=0,\n",
    "                    )\n",
    "                    for k in range(self.num_cell_types)\n",
    "                ]\n",
    "                for i in range(self.num_cell_types)\n",
    "            ]\n",
    "        )\n",
    "        return np.random.normal(\n",
    "            eta[:, :, None] * t, np.sqrt((self.S ** 2) * eta[:, :, None])\n",
    "        )\n",
    "\n",
    "    def sample_Z(self, x):\n",
    "        log_val = np.array(\n",
    "            [\n",
    "                [\n",
    "                    self._log_joint(\n",
    "                        x, self.Z + (k - self.Z[i]) * (np.arange(self.num_cells) == i)\n",
    "                    )\n",
    "                    for k in range(self.num_cell_types)\n",
    "                ]\n",
    "                for i in range(self.num_cells)\n",
    "            ]\n",
    "        )\n",
    "\n",
    "        log_vals =log_val - np.max(log_val, axis=1)[:, None]\n",
    "        probas = np.exp(log_vals) / np.sum(np.exp(log_vals), axis=1)[:, None]\n",
    "        return np.array(\n",
    "            [\n",
    "                np.random.choice(np.arange(self.num_cell_types), p=probas[v])\n",
    "                for v in range(self.num_cells)\n",
    "            ]\n",
    "        )\n",
    "\n",
    "    \"\"\"\n",
    "        This function computes the log-joint for a specified Z, which is used while sampling Z. \n",
    "        To get the log-joint for the current value of the parameters, use log_joint\n",
    "    \"\"\"\n",
    "\n",
    "    def _log_joint(self, x, Z, should_print = False):\n",
    "        temp = (\n",
    "            dirichlet.logpdf(self.pi, self.alpha)\n",
    "            + np.sum(np.log(self.pi[Z]))\n",
    "            + np.sum(norm.logpdf(self.beta, 0, self.sigma))\n",
    "            + np.sum(norm.logpdf(self.rho, 0, self.sigma))\n",
    "        )\n",
    "        loc = np.array(\n",
    "            [\n",
    "                self.beta[Z[v], :]\n",
    "                + self.epsilon_up * np.sum(self.rho[Z[v], Z[self.graph[v]], :], axis=0)\n",
    "                for v in range(self.num_cells)\n",
    "            ]\n",
    "        )\n",
    "        return temp + np.sum(norm.logpdf(x, loc, self.S * np.ones(loc.shape)))\n",
    "\n",
    "    def log_joint(self, x):\n",
    "        return self._log_joint(x, self.Z, True)\n",
    "\n",
    "    def train(self, num_epochs, x):\n",
    "        for _ in range(num_epochs):\n",
    "            self.update_Z(self.sample_Z(x))\n",
    "            self.pi = self.sample_pi()\n",
    "            self.beta = self.sample_beta(x)\n",
    "            self.rho = self.sample_rho(x)\n",
    "            self.log_joints.append(self.log_joint(x))\n",
    "\n",
    "    def plot(self):\n",
    "        plt.plot(np.arange(len(self.log_joints)), self.log_joints)"
   ]
  },
  {
   "cell_type": "code",
   "execution_count": 316,
   "metadata": {},
   "outputs": [],
   "source": [
    "n_cells = 80\n",
    "n_cell_types = 3\n",
    "n_genes = 5\n",
    "K = 2\n",
    "epsilon = 0.2"
   ]
  },
  {
   "cell_type": "code",
   "execution_count": 317,
   "metadata": {},
   "outputs": [
    {
     "data": {
      "text/plain": [
       "<matplotlib.collections.PathCollection at 0x7fe6b0c79eb8>"
      ]
     },
     "execution_count": 317,
     "metadata": {},
     "output_type": "execute_result"
    },
    {
     "data": {
      "image/png": "[encoded data removed]",
      "text/plain": [
       "<Figure size 432x288 with 1 Axes>"
      ]
     },
     "metadata": {},
     "output_type": "display_data"
    }
   ],
   "source": [
    "np.random.seed(4)\n",
    "dg = DataGenerator(n_cells, n_cell_types, n_genes, K, epsilon)\n",
    "expression = dg.generate_gene_expression(epsilon, n_cells)\n",
    "\n",
    "plt.scatter(*expression.T[:2], c=dg.cell_types)"
   ]
  },
  {
   "cell_type": "code",
   "execution_count": 318,
   "metadata": {},
   "outputs": [],
   "source": [
    "sampler = GibbsSampler(n_cells, n_cell_types, n_genes, 10, 1, epsilon, dg.graph)"
   ]
  },
  {
   "cell_type": "code",
   "execution_count": 319,
   "metadata": {},
   "outputs": [],
   "source": [
    "sampler.train(100, expression)"
   ]
  },
  {
   "cell_type": "code",
   "execution_count": 320,
   "metadata": {},
   "outputs": [
    {
     "data": {
      "image/png": "[encoded data removed]",
      "text/plain": [
       "<Figure size 432x288 with 1 Axes>"
      ]
     },
     "metadata": {},
     "output_type": "display_data"
    }
   ],
   "source": [
    "sampler.plot()"
   ]
  },
  {
   "cell_type": "code",
   "execution_count": 314,
   "metadata": {},
   "outputs": [
    {
     "data": {
      "text/plain": [
       "array([  1.72825274,  -0.41392633,  14.78665056,   3.90818533,\n",
       "       -11.16320276])"
      ]
     },
     "execution_count": 314,
     "metadata": {},
     "output_type": "execute_result"
    }
   ],
   "source": [
    "sampler.rho[1,1]"
   ]
  },
  {
   "cell_type": "code",
   "execution_count": 315,
   "metadata": {},
   "outputs": [
    {
     "data": {
      "text/plain": [
       "array([ 3.50997153, -6.06887283, 15.46979329,  7.23341609,  0.46135567])"
      ]
     },
     "execution_count": 315,
     "metadata": {},
     "output_type": "execute_result"
    }
   ],
   "source": [
    "dg.perturbation[0,0]"
   ]
  },
  {
   "cell_type": "code",
   "execution_count": 307,
   "metadata": {},
   "outputs": [
    {
     "data": {
      "text/plain": [
       "array([1, 0, 2, 0, 1, 2, 1, 2, 1, 0, 2, 2, 0, 0, 2, 2, 2, 2, 1, 2, 0, 2,\n",
       "       1, 2, 1, 1, 2, 0, 0, 0, 1, 2, 0, 1, 0, 1, 1, 2, 1, 0, 2, 0, 1, 2,\n",
       "       0, 1, 2, 0, 0, 1, 2, 2, 1, 1, 1, 0, 1, 1, 0, 0, 1, 1, 0, 2, 1, 2,\n",
       "       1, 2, 2, 2, 0, 0, 0, 0, 1, 0, 0, 2, 0, 2])"
      ]
     },
     "execution_count": 307,
     "metadata": {},
     "output_type": "execute_result"
    }
   ],
   "source": [
    "dg.cell_types"
   ]
  },
  {
   "cell_type": "code",
   "execution_count": 305,
   "metadata": {},
   "outputs": [
    {
     "data": {
      "text/plain": [
       "array([0, 1, 2, 1, 0, 2, 0, 2, 0, 1, 2, 2, 1, 1, 2, 2, 2, 2, 0, 2, 1, 2,\n",
       "       0, 2, 0, 0, 2, 1, 1, 1, 0, 0, 1, 0, 1, 0, 0, 2, 0, 1, 2, 1, 0, 2,\n",
       "       1, 0, 2, 1, 1, 0, 0, 0, 0, 0, 0, 1, 0, 0, 1, 1, 0, 0, 1, 2, 0, 0,\n",
       "       0, 2, 2, 2, 1, 1, 1, 1, 0, 1, 1, 0, 1, 2])"
      ]
     },
     "execution_count": 305,
     "metadata": {},
     "output_type": "execute_result"
    }
   ],
   "source": [
    "sampler.Z"
   ]
  },
  {
   "cell_type": "code",
   "execution_count": 310,
   "metadata": {},
   "outputs": [
    {
     "data": {
      "text/plain": [
       "array([ 1.45096403,  5.36956669, -9.73152428,  9.13139457, -4.48924124])"
      ]
     },
     "execution_count": 310,
     "metadata": {},
     "output_type": "execute_result"
    }
   ],
   "source": [
    "sampler.beta[1]"
   ]
  },
  {
   "cell_type": "code",
   "execution_count": 311,
   "metadata": {},
   "outputs": [
    {
     "data": {
      "text/plain": [
       "array([ 0.50561707,  4.99951333, -9.95908931,  6.93598508, -4.1830152 ])"
      ]
     },
     "execution_count": 311,
     "metadata": {},
     "output_type": "execute_result"
    }
   ],
   "source": [
    "dg.initial_cell_carac[0]"
   ]
  },
  {
   "cell_type": "code",
   "execution_count": null,
   "metadata": {},
   "outputs": [],
   "source": []
  }
 ],
 "metadata": {
  "kernelspec": {
   "display_name": "Python 3",
   "language": "python",
   "name": "python3"
  },
  "language_info": {
   "codemirror_mode": {
    "name": "ipython",
    "version": 3
   },
   "file_extension": ".py",
   "mimetype": "text/x-python",
   "name": "python",
   "nbconvert_exporter": "python",
   "pygments_lexer": "ipython3",
   "version": "3.6.4"
  }
 },
 "nbformat": 4,
 "nbformat_minor": 2
}
