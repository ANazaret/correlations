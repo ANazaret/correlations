{
 "cells": [
  {
   "cell_type": "code",
   "execution_count": 1,
   "metadata": {},
   "outputs": [],
   "source": [
    "import numpy as np\n",
    "from gibbs_sampler import GibbsSampler\n",
    "from data_generation_normal import DataGenerator\n",
    "import matplotlib.pyplot as plt\n",
    "from collections import defaultdict"
   ]
  },
  {
   "cell_type": "code",
   "execution_count": 2,
   "metadata": {},
   "outputs": [],
   "source": [
    "n_cells = 100\n",
    "n_cell_types = 3\n",
    "n_genes = 4\n",
    "K = 6\n",
    "epsilon = 4"
   ]
  },
  {
   "cell_type": "code",
   "execution_count": 3,
   "metadata": {},
   "outputs": [],
   "source": [
    "np.random.seed(2)\n",
    "dg = DataGenerator(n_cells, n_cell_types, n_genes, K, epsilon)\n",
    "\n",
    "#plt.scatter(*expression.T[0:2], c=dg.cell_types)"
   ]
  },
  {
   "cell_type": "code",
   "execution_count": 4,
   "metadata": {},
   "outputs": [],
   "source": [
    "sampler = GibbsSampler(n_cells, n_cell_types, n_genes, 10, 1, epsilon, dg.graph, dg.graph_reversed)"
   ]
  },
  {
   "cell_type": "code",
   "execution_count": 17,
   "metadata": {},
   "outputs": [],
   "source": [
    "L = 20\n",
    "histogram = np.zeros((4,L+1))"
   ]
  },
  {
   "cell_type": "code",
   "execution_count": 25,
   "metadata": {},
   "outputs": [
    {
     "ename": "SyntaxError",
     "evalue": "invalid syntax (<ipython-input-25-e73e75833979>, line 5)",
     "output_type": "error",
     "traceback": [
      "\u001b[0;36m  File \u001b[0;32m\"<ipython-input-25-e73e75833979>\"\u001b[0;36m, line \u001b[0;32m5\u001b[0m\n\u001b[0;31m    sampler.train(75 exp)\u001b[0m\n\u001b[0m                       ^\u001b[0m\n\u001b[0;31mSyntaxError\u001b[0m\u001b[0;31m:\u001b[0m invalid syntax\n"
     ]
    }
   ],
   "source": [
    "def sample(sampler, exp, n_samples = 10):\n",
    "    res = defaultdict(list)\n",
    "    for _ in range(n_samples):\n",
    "        sampler.reset()\n",
    "        sampler.train(75 exp)\n",
    "        res[\"rho\"].append(sampler.rho)\n",
    "        res[\"beta\"].append(sampler.beta)\n",
    "        res[\"z\"].append(sampler.Z)\n",
    "        res[\"pi\"].append(sampler.pi)\n",
    "    for k in res:\n",
    "        res[k] = np.array(res[k])\n",
    "    return res"
   ]
  },
  {
   "cell_type": "code",
   "execution_count": 26,
   "metadata": {},
   "outputs": [
    {
     "name": "stdout",
     "output_type": "stream",
     "text": [
      "epoch 0\n",
      "epoch 1\n",
      "epoch 2\n",
      "epoch 3\n",
      "epoch 4\n",
      "epoch 5\n",
      "epoch 6\n",
      "epoch 7\n",
      "epoch 8\n",
      "epoch 9\n",
      "epoch 10\n",
      "epoch 11\n",
      "epoch 12\n",
      "epoch 13\n",
      "epoch 14\n"
     ]
    }
   ],
   "source": [
    "for i in range(15):\n",
    "    expression = dg.generate_gene_expression(epsilon, n_cells)\n",
    "    samples = sample(sampler, expression, L)\n",
    "    rho_inf = samples[\"rho\"] < dg.perturbation[None,:]\n",
    "    rho_rank = rho_inf.sum(axis = 0)\n",
    "    for v,c in zip(*np.unique(rho_rank, return_counts = True)):\n",
    "        histogram[0][v]+=c\n",
    "    beta_inf = samples[\"beta\"] < dg.initial_cell_carac[None,:]\n",
    "    beta_rank = beta_inf.sum(axis = 0)\n",
    "    for v,c in zip(*np.unique(beta_rank, return_counts = True)):\n",
    "        histogram[1][v]+=c\n",
    "    z_inf = samples[\"z\"] < dg.cell_types[None,:]\n",
    "    z_rank = z_inf.sum(axis = 0)\n",
    "    for v,c in zip(*np.unique(z_rank, return_counts = True)):\n",
    "        histogram[2][v]+=c\n",
    "    pi_inf = samples[\"pi\"] < dg.pi[None,:]\n",
    "    pi_rank = pi_inf.sum(axis = 0)\n",
    "    for v,c in zip(*np.unique(beta_rank, return_counts = True)):\n",
    "        histogram[3][v]+=c\n",
    "    \n",
    "    print(\"epoch\",i)"
   ]
  },
  {
   "cell_type": "code",
   "execution_count": 31,
   "metadata": {},
   "outputs": [
    {
     "data": {
      "text/plain": [
       "<BarContainer object of 21 artists>"
      ]
     },
     "execution_count": 31,
     "metadata": {},
     "output_type": "execute_result"
    },
    {
     "data": {
      "image/png": "[encoded data removed]",
      "text/plain": [
       "<Figure size 432x288 with 1 Axes>"
      ]
     },
     "metadata": {},
     "output_type": "display_data"
    }
   ],
   "source": [
    "plt.bar(np.arange(L+1), histogram[3])"
   ]
  },
  {
   "cell_type": "code",
   "execution_count": null,
   "metadata": {},
   "outputs": [],
   "source": [
    "histogram"
   ]
  },
  {
   "cell_type": "code",
   "execution_count": null,
   "metadata": {},
   "outputs": [],
   "source": []
  }
 ],
 "metadata": {
  "kernelspec": {
   "display_name": "Python 3",
   "language": "python",
   "name": "python3"
  },
  "language_info": {
   "codemirror_mode": {
    "name": "ipython",
    "version": 3
   },
   "file_extension": ".py",
   "mimetype": "text/x-python",
   "name": "python",
   "nbconvert_exporter": "python",
   "pygments_lexer": "ipython3",
   "version": "3.6.4"
  }
 },
 "nbformat": 4,
 "nbformat_minor": 2
}
